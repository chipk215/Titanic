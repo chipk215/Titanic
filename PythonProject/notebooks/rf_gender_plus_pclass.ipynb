{
 "cells": [
  {
   "cell_type": "code",
   "execution_count": 19,
   "metadata": {},
   "outputs": [],
   "source": [
    "import pandas as pd\n",
    "import numpy as np\n",
    "from sklearn.model_selection import train_test_split\n",
    "from sklearn.ensemble import RandomForestClassifier\n",
    "from sklearn.metrics import confusion_matrix\n",
    "import seaborn as sns\n",
    "from sklearn import tree"
   ]
  },
  {
   "cell_type": "code",
   "execution_count": 43,
   "metadata": {},
   "outputs": [],
   "source": [
    "train = pd.read_csv('../data/train.csv')\n"
   ]
  },
  {
   "cell_type": "code",
   "execution_count": 62,
   "metadata": {},
   "outputs": [],
   "source": [
    "def visualize_a_tree(classifier, training_data):\n",
    "    \"\"\"\n",
    "    From the command line run: dot -Tpng tree_dot.dot -o tree.png\n",
    "    :param classifier:\n",
    "    :param training_data:\n",
    "    :return:\n",
    "    \"\"\"\n",
    "    estimators = classifier.estimators_\n",
    "    sample_tree = estimators[0]\n",
    "    print(sample_tree)\n",
    "    with open(\"../results/tree_gender_class.dot\", \"w\") as f:\n",
    "        tree.export_graphviz(sample_tree, out_file=f, feature_names=training_data.columns.values)\n"
   ]
  },
  {
   "cell_type": "code",
   "execution_count": 45,
   "metadata": {},
   "outputs": [],
   "source": [
    "train.loc[train.Survived== 0,'Survived'] = -1\n",
    "y_predict = train['Survived']"
   ]
  },
  {
   "cell_type": "code",
   "execution_count": 46,
   "metadata": {},
   "outputs": [],
   "source": [
    "df_train = pd.get_dummies(train, columns=['Sex'], drop_first=True)\n",
    "predict_features_train = df_train.drop(['PassengerId', 'Survived', 'Fare', 'Parch', 'SibSp', 'Age',\n",
    "                                            'Name', 'Cabin', 'Ticket', 'Embarked'], axis=1)"
   ]
  },
  {
   "cell_type": "code",
   "execution_count": 63,
   "metadata": {},
   "outputs": [],
   "source": [
    "train_X, val_X, train_y, val_y = train_test_split(predict_features_train, y_predict, random_state=0)\n"
   ]
  },
  {
   "cell_type": "code",
   "execution_count": 66,
   "metadata": {},
   "outputs": [],
   "source": [
    "tree_count = 1\n",
    "    \n",
    "rf_classifier: RandomForestClassifier = RandomForestClassifier(tree_count, max_features=None, random_state=0)\n",
    "tree_classifier = tree.DecisionTreeClassifier()\n",
    "tree_classifier.fit(train_X, train_y)\n",
    "with open(\"../results/tree.dot\", \"w\") as f:\n",
    "        tree.export_graphviz(tree_classifier, out_file=f, feature_names=train_X.columns.values)"
   ]
  },
  {
   "cell_type": "code",
   "execution_count": 64,
   "metadata": {},
   "outputs": [
    {
     "name": "stdout",
     "output_type": "stream",
     "text": [
      "DecisionTreeClassifier(class_weight=None, criterion='gini', max_depth=None,\n",
      "            max_features=None, max_leaf_nodes=None,\n",
      "            min_impurity_decrease=0.0, min_impurity_split=None,\n",
      "            min_samples_leaf=1, min_samples_split=2,\n",
      "            min_weight_fraction_leaf=0.0, presort=False,\n",
      "            random_state=209652396, splitter='best')\n"
     ]
    }
   ],
   "source": [
    "rf_classifier.fit(train_X, train_y)\n",
    "visualize_a_tree(rf_classifier,train_X)\n"
   ]
  },
  {
   "cell_type": "code",
   "execution_count": 68,
   "metadata": {},
   "outputs": [
    {
     "data": {
      "text/plain": [
       "array([-1, -1, -1,  1,  1, -1,  1,  1, -1,  1, -1,  1, -1,  1,  1,  1, -1,\n",
       "       -1, -1, -1, -1,  1, -1, -1,  1,  1, -1,  1,  1,  1, -1,  1, -1, -1,\n",
       "       -1, -1, -1, -1, -1, -1, -1, -1, -1, -1,  1, -1, -1,  1, -1, -1, -1,\n",
       "       -1,  1, -1, -1, -1, -1,  1, -1, -1, -1,  1,  1, -1,  1, -1,  1, -1,\n",
       "        1,  1,  1, -1, -1, -1, -1,  1, -1, -1, -1, -1, -1, -1,  1, -1, -1,\n",
       "        1,  1,  1,  1, -1, -1, -1, -1,  1,  1, -1,  1, -1, -1, -1, -1, -1,\n",
       "       -1, -1,  1,  1,  1,  1, -1,  1, -1,  1, -1,  1, -1,  1,  1,  1, -1,\n",
       "        1, -1, -1, -1, -1, -1, -1, -1, -1, -1, -1,  1, -1, -1,  1, -1, -1,\n",
       "       -1,  1, -1, -1, -1,  1, -1,  1,  1,  1, -1,  1,  1, -1, -1,  1,  1,\n",
       "       -1,  1, -1,  1, -1,  1,  1, -1, -1,  1,  1, -1, -1, -1, -1, -1, -1,\n",
       "       -1,  1, -1, -1,  1, -1,  1, -1, -1,  1, -1, -1, -1, -1, -1, -1,  1,\n",
       "       -1, -1,  1,  1, -1,  1,  1, -1, -1, -1,  1, -1, -1, -1,  1, -1,  1,\n",
       "       -1, -1,  1, -1,  1, -1, -1, -1, -1,  1, -1, -1, -1, -1,  1,  1, -1,\n",
       "        1,  1], dtype=int64)"
      ]
     },
     "execution_count": 68,
     "metadata": {},
     "output_type": "execute_result"
    }
   ],
   "source": [
    "\n",
    "survivor_predictions = tree_classifier.predict(val_X)\n",
    "survivor_predictions"
   ]
  },
  {
   "cell_type": "code",
   "execution_count": 58,
   "metadata": {},
   "outputs": [
    {
     "data": {
      "text/plain": [
       "Pclass      668\n",
       "Sex_male    668\n",
       "dtype: int64"
      ]
     },
     "execution_count": 58,
     "metadata": {},
     "output_type": "execute_result"
    }
   ],
   "source": [
    "train_X.count()"
   ]
  },
  {
   "cell_type": "code",
   "execution_count": 30,
   "metadata": {},
   "outputs": [
    {
     "data": {
      "text/plain": [
       "1"
      ]
     },
     "execution_count": 30,
     "metadata": {},
     "output_type": "execute_result"
    }
   ],
   "source": [
    "rf_classifier.n_outputs_"
   ]
  },
  {
   "cell_type": "code",
   "execution_count": 61,
   "metadata": {},
   "outputs": [
    {
     "data": {
      "text/plain": [
       "668"
      ]
     },
     "execution_count": 61,
     "metadata": {},
     "output_type": "execute_result"
    }
   ],
   "source": [
    "\n",
    "train_y.count()\n"
   ]
  },
  {
   "cell_type": "code",
   "execution_count": null,
   "metadata": {},
   "outputs": [],
   "source": []
  }
 ],
 "metadata": {
  "kernelspec": {
   "display_name": "Python 3",
   "language": "python",
   "name": "python3"
  },
  "language_info": {
   "codemirror_mode": {
    "name": "ipython",
    "version": 3
   },
   "file_extension": ".py",
   "mimetype": "text/x-python",
   "name": "python",
   "nbconvert_exporter": "python",
   "pygments_lexer": "ipython3",
   "version": "3.6.5"
  }
 },
 "nbformat": 4,
 "nbformat_minor": 2
}
