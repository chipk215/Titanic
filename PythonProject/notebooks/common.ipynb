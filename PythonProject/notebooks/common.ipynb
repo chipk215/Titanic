{
 "cells": [
  {
   "cell_type": "code",
   "execution_count": 1,
   "metadata": {},
   "outputs": [],
   "source": [
    "import pandas as pd\n",
    "import numpy as np"
   ]
  },
  {
   "cell_type": "code",
   "execution_count": 2,
   "metadata": {},
   "outputs": [],
   "source": [
    "def compute_accuracy(tn,tp, observation_count):\n",
    "    return (tn+tp)/float(observation_count)"
   ]
  },
  {
   "cell_type": "code",
   "execution_count": 3,
   "metadata": {},
   "outputs": [],
   "source": [
    "def read_data_files():\n",
    "    df_train = pd.read_csv('../data/train.csv')\n",
    "    df_test = pd.read_csv('../data/test.csv')\n",
    "    return df_train, df_test"
   ]
  },
  {
   "cell_type": "code",
   "execution_count": 4,
   "metadata": {},
   "outputs": [],
   "source": [
    "def get_missing_feature_list(df):\n",
    "    observation_count = df.shape[0]\n",
    "    feature_counts = df.count()\n",
    "    missing_feature_list = []\n",
    "    for idx, value in feature_counts.iteritems():\n",
    "        if value != observation_count:\n",
    "            missing_feature_list.append(idx)\n",
    "\n",
    "    return missing_feature_list"
   ]
  },
  {
   "cell_type": "code",
   "execution_count": 5,
   "metadata": {},
   "outputs": [],
   "source": [
    "def handle_embark_missing_values(df):\n",
    "    \"\"\"\n",
    "    Majority of passengers embarked in Southampton\n",
    "    :param df:\n",
    "    :return:\n",
    "    \"\"\"\n",
    "    df.loc[df.Embarked.isnull(), 'Embarked'] = 'S'\n",
    "    return df\n"
   ]
  },
  {
   "cell_type": "code",
   "execution_count": 6,
   "metadata": {},
   "outputs": [],
   "source": [
    "def handle_age_missing_values(df):\n",
    "    \"\"\"\n",
    "    Replace missing age values for passengers using the average age of persons in the same passenger class.\n",
    "\n",
    "    Presumes passenger class values = {1,2,3}\n",
    "    :param df: dataframe containing samples\n",
    "    :return: updated dataframe\n",
    "    \"\"\"\n",
    "    p1_ages = df[df['Pclass'] == 1]['Age']\n",
    "    p1_mean = np.mean(p1_ages)\n",
    "    p2_ages = df[df['Pclass'] == 2]['Age']\n",
    "    p2_mean = np.mean(p2_ages)\n",
    "    p3_ages = df[df['Pclass'] == 3]['Age']\n",
    "    p3_mean = np.mean(p3_ages)\n",
    "\n",
    "    df.loc[(df.Age.isnull() & (df.Pclass == 1)), 'Age'] = p1_mean\n",
    "    df.loc[(df.Age.isnull() & (df.Pclass == 2)), 'Age'] = p2_mean\n",
    "    df.loc[(df.Age.isnull() & (df.Pclass == 3)), 'Age'] = p3_mean\n",
    "\n",
    "    return df"
   ]
  },
  {
   "cell_type": "code",
   "execution_count": 9,
   "metadata": {},
   "outputs": [],
   "source": [
    "def handle_fare_missing_values(df):\n",
    "    p1_fares = df[df['Pclass'] == 1]['Fare']\n",
    "    p1_mean = np.mean(p1_fares)\n",
    "    p2_fares = df[df['Pclass'] == 2]['Fare']\n",
    "    p2_mean = np.mean(p2_fares)\n",
    "    p3_fares = df[df['Pclass'] == 3]['Fare']\n",
    "    p3_mean = np.mean(p3_fares)\n",
    "\n",
    "    df.loc[(df.Fare.isnull() & (df.Pclass == 1)), 'Fare'] = p1_mean\n",
    "    df.loc[(df.Fare.isnull() & (df.Pclass == 2)), 'Fare'] = p2_mean\n",
    "    df.loc[(df.Fare.isnull() & (df.Pclass == 3)), 'Fare'] = p3_mean\n",
    "\n",
    "    return df"
   ]
  },
  {
   "cell_type": "code",
   "execution_count": 7,
   "metadata": {},
   "outputs": [],
   "source": [
    "def handle_cabin_missing_values(df):\n",
    "\n",
    "    def truncate_cabin_name(x):\n",
    "        try:\n",
    "            return x[0]\n",
    "        except TypeError:\n",
    "            return 'None'\n",
    "\n",
    "    df['Cabin'] = df.Cabin.apply(truncate_cabin_name)\n",
    "    return df"
   ]
  },
  {
   "cell_type": "code",
   "execution_count": 8,
   "metadata": {},
   "outputs": [],
   "source": [
    "def handle_missing_features(missing_features, df):\n",
    "    if len(missing_features) == 0:\n",
    "        return df\n",
    "\n",
    "    feature_handlers = {'Age': handle_age_missing_values,\n",
    "                        'Fare': handle_fare_missing_values,\n",
    "                        'Embarked': handle_embark_missing_values,\n",
    "                        'Cabin': handle_cabin_missing_values}\n",
    "\n",
    "    for feature in missing_features:\n",
    "        print(\"Feature missing data:\", feature)\n",
    "        if feature in feature_handlers:\n",
    "            handler = feature_handlers[feature]\n",
    "            df = handler(df)\n",
    "    return df\n",
    "\n",
    "\n",
    "\n",
    "\n",
    "\n"
   ]
  }
 ],
 "metadata": {
  "kernelspec": {
   "display_name": "Python 3",
   "language": "python",
   "name": "python3"
  },
  "language_info": {
   "codemirror_mode": {
    "name": "ipython",
    "version": 3
   },
   "file_extension": ".py",
   "mimetype": "text/x-python",
   "name": "python",
   "nbconvert_exporter": "python",
   "pygments_lexer": "ipython3",
   "version": "3.6.5"
  }
 },
 "nbformat": 4,
 "nbformat_minor": 2
}
