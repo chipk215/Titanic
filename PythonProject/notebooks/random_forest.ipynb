{
 "cells": [
  {
   "cell_type": "code",
   "execution_count": 39,
   "metadata": {},
   "outputs": [],
   "source": [
    "import pandas as pd\n",
    "import numpy as np\n",
    "from sklearn.model_selection import train_test_split\n",
    "from sklearn.ensemble import RandomForestClassifier\n",
    "from sklearn.metrics import confusion_matrix\n",
    "import seaborn as sns"
   ]
  },
  {
   "cell_type": "code",
   "execution_count": 3,
   "metadata": {},
   "outputs": [],
   "source": [
    "def compute_accuracy(tn,tp, observation_count):\n",
    "    return (tn+tp)/float(observation_count)"
   ]
  },
  {
   "cell_type": "code",
   "execution_count": 4,
   "metadata": {},
   "outputs": [],
   "source": [
    "def read_data_files():\n",
    "    df_train = pd.read_csv('../data/train.csv')\n",
    "    df_test = pd.read_csv('../data/test.csv')\n",
    "    return df_train, df_test"
   ]
  },
  {
   "cell_type": "code",
   "execution_count": 5,
   "metadata": {},
   "outputs": [],
   "source": [
    "def get_missing_feature_list(df):\n",
    "    observation_count = df.shape[0]\n",
    "    feature_counts = df.count()\n",
    "    missing_feature_list = []\n",
    "    for idx, value in feature_counts.iteritems():\n",
    "        if value != observation_count:\n",
    "            missing_feature_list.append(idx)\n",
    "\n",
    "    return missing_feature_list"
   ]
  },
  {
   "cell_type": "code",
   "execution_count": 6,
   "metadata": {},
   "outputs": [],
   "source": [
    "def handle_embark_missing_values(df):\n",
    "    \"\"\"\n",
    "    Majority of passengers embarked in Southampton\n",
    "    :param df:\n",
    "    :return:\n",
    "    \"\"\"\n",
    "    df.loc[df.Embarked.isnull(), 'Embarked'] = 'S'\n",
    "    return df\n"
   ]
  },
  {
   "cell_type": "code",
   "execution_count": 7,
   "metadata": {},
   "outputs": [],
   "source": [
    "def handle_age_missing_values(df):\n",
    "    \"\"\"\n",
    "    Replace missing age values for passengers using the average age of persons in the same passenger class.\n",
    "\n",
    "    Presumes passenger class values = {1,2,3}\n",
    "    :param df: dataframe containing samples\n",
    "    :return: updated dataframe\n",
    "    \"\"\"\n",
    "    p1_ages = df[df['Pclass'] == 1]['Age']\n",
    "    p1_mean = np.mean(p1_ages)\n",
    "    p2_ages = df[df['Pclass'] == 2]['Age']\n",
    "    p2_mean = np.mean(p2_ages)\n",
    "    p3_ages = df[df['Pclass'] == 3]['Age']\n",
    "    p3_mean = np.mean(p3_ages)\n",
    "\n",
    "    df.loc[(df.Age.isnull() & (df.Pclass == 1)), 'Age'] = p1_mean\n",
    "    df.loc[(df.Age.isnull() & (df.Pclass == 2)), 'Age'] = p2_mean\n",
    "    df.loc[(df.Age.isnull() & (df.Pclass == 3)), 'Age'] = p3_mean\n",
    "\n",
    "    return df"
   ]
  },
  {
   "cell_type": "code",
   "execution_count": 8,
   "metadata": {},
   "outputs": [],
   "source": [
    "def handle_fare_missing_values(df):\n",
    "    p1_fares = df[df['Pclass'] == 1]['Fare']\n",
    "    p1_mean = np.mean(p1_fares)\n",
    "    p2_fares = df[df['Pclass'] == 2]['Fare']\n",
    "    p2_mean = np.mean(p2_fares)\n",
    "    p3_fares = df[df['Pclass'] == 3]['Fare']\n",
    "    p3_mean = np.mean(p3_fares)\n",
    "\n",
    "    df.loc[(df.Fare.isnull() & (df.Pclass == 1)), 'Fare'] = p1_mean\n",
    "    df.loc[(df.Fare.isnull() & (df.Pclass == 2)), 'Fare'] = p2_mean\n",
    "    df.loc[(df.Fare.isnull() & (df.Pclass == 3)), 'Fare'] = p3_mean\n",
    "\n",
    "    return df"
   ]
  },
  {
   "cell_type": "code",
   "execution_count": 9,
   "metadata": {},
   "outputs": [],
   "source": [
    "def handle_cabin_missing_values(df):\n",
    "\n",
    "    def truncate_cabin_name(x):\n",
    "        try:\n",
    "            return x[0]\n",
    "        except TypeError:\n",
    "            return 'None'\n",
    "\n",
    "    df['Cabin'] = df.Cabin.apply(truncate_cabin_name)\n",
    "    return df"
   ]
  },
  {
   "cell_type": "code",
   "execution_count": 10,
   "metadata": {},
   "outputs": [],
   "source": [
    "def handle_missing_features(missing_features, df):\n",
    "    if len(missing_features) == 0:\n",
    "        return df\n",
    "\n",
    "    feature_handlers = {'Age': handle_age_missing_values,\n",
    "                        'Fare': handle_fare_missing_values,\n",
    "                        'Embarked': handle_embark_missing_values,\n",
    "                        'Cabin': handle_cabin_missing_values}\n",
    "\n",
    "    for feature in missing_features:\n",
    "        print(\"Feature missing data:\", feature)\n",
    "        if feature in feature_handlers:\n",
    "            handler = feature_handlers[feature]\n",
    "            df = handler(df)\n",
    "    return df"
   ]
  },
  {
   "cell_type": "code",
   "execution_count": 45,
   "metadata": {},
   "outputs": [],
   "source": [
    "def process_training_data(df_train):\n",
    "    missing_features = get_missing_feature_list(df_train)\n",
    "    df_train = handle_missing_features(missing_features, df_train)\n",
    "    # replace Sex attribute with numeric encoding\n",
    "    df_train = pd.get_dummies(df_train, columns=['Sex'], drop_first=True)\n",
    "    y_predict = df_train['Survived']\n",
    "\n",
    "    # Drop PassengerId, Survived, Name and Ticket features for use in model\n",
    "    predict_features = df_train.drop(['PassengerId', 'Survived', 'Name', 'Ticket','Cabin','Embarked','SibSp','Parch'], axis=1)\n",
    "    \n",
    "    \n",
    "    print(\"Predict Features\", predict_features.columns)\n",
    "\n",
    "    train_X, val_X, train_y, val_y = train_test_split(predict_features, y_predict,  random_state=0)\n",
    "    tree_count = 100\n",
    "    rf_classifier = RandomForestClassifier(tree_count, n_jobs=-1, max_features=None,\n",
    "                                           min_samples_leaf=1, bootstrap=True, random_state=42)\n",
    "    rf_classifier.fit(train_X, train_y)\n",
    "    score = rf_classifier.score(train_X, train_y)\n",
    "    print(\"Training Model Score= \", score)\n",
    "    survivor_predictions = rf_classifier.predict(val_X)\n",
    "    print(confusion_matrix(val_y, survivor_predictions))\n",
    "    tn, fp, fn, tp = confusion_matrix(val_y, survivor_predictions).ravel()\n",
    "    training_accuracy = compute_accuracy(tn, tp, val_X.shape[0])\n",
    "    print(\"Training accuracy =\", training_accuracy)\n",
    "    training_records = df_train.loc[val_X.index.values]\n",
    "    passengerIds = training_records['PassengerId']\n",
    "\n",
    "    result = pd.DataFrame()\n",
    "    result['PassengerId'] = passengerIds\n",
    "    result['Survived'] = val_y\n",
    "    result['Prediction'] = survivor_predictions\n",
    "\n",
    "    return rf_classifier, predict_features, result"
   ]
  },
  {
   "cell_type": "code",
   "execution_count": 12,
   "metadata": {},
   "outputs": [],
   "source": [
    "def process_test_data(df_test, rf_classifier, training_features):\n",
    "    # Predict survivors using test data\n",
    "    missing_features = get_missing_feature_list(df_test)\n",
    "\n",
    "    df_test = handle_missing_features(missing_features, df_test)\n",
    "    # replace categorical features with numeric encoding\n",
    "    df_test = pd.get_dummies(df_test, columns=['Sex', 'Embarked', 'Cabin'], drop_first=True)\n",
    "    # Drop PassengerId, Name and Ticket features for use in model\n",
    "    predict_features = df_test.drop(['PassengerId', 'Name', 'Ticket'], axis=1)\n",
    "\n",
    "    # Ensure training features and test features match.\n",
    "    # The issue is that test data may not have a specific instance for a categorical feature that\n",
    "    # has been represented as a dummy\n",
    "    test_features = list(predict_features)\n",
    "    missing_features = list(set(training_features).difference(test_features))\n",
    "    for feature in missing_features:\n",
    "        predict_features[feature] = 0\n",
    "\n",
    "    test_predictions = rf_classifier.predict(predict_features)\n",
    "\n",
    "    passenger_ids = df_test['PassengerId']\n",
    "    print(type(test_predictions), test_predictions.shape)\n",
    "    result = pd.DataFrame(passenger_ids)\n",
    "    result['Survived'] = test_predictions\n",
    "\n",
    "    # result.to_csv('../results/test_results.csv', encoding='utf-8', index=False)\n",
    "    "
   ]
  },
  {
   "cell_type": "code",
   "execution_count": 14,
   "metadata": {},
   "outputs": [
    {
     "name": "stdout",
     "output_type": "stream",
     "text": [
      "Feature missing data: Age\n",
      "Feature missing data: Cabin\n",
      "Feature missing data: Embarked\n",
      "Model score=  0.9865269461077845\n",
      "[[126  13]\n",
      " [ 19  65]]\n",
      "Training accuracy = 0.8565022421524664\n"
     ]
    }
   ],
   "source": [
    "df_train, df_test = read_data_files()\n",
    "rf_classifier, rf_training_features, rf_results = process_training_data(df_train)\n",
    "\n",
    "df = pd.DataFrame()\n",
    "df['PassengerId'] = rf_results['PassengerId']\n",
    "df['Survived'] = rf_results['Survived']\n",
    "df['RF_Predict'] = rf_results['Prediction']\n",
    "\n",
    "# re-read the data\n",
    "df_train, df_test = read_data_files()\n",
    "\n",
    "errors = df.query('Survived != RF_Predict')\n",
    "false_positives = errors.loc[errors['RF_Predict'] == 1]['PassengerId']\n",
    "list_false_positive_ids = false_positives.tolist()\n",
    "false_positive_passengers = df_train[df_train['PassengerId'].isin(list_false_positive_ids)]\n",
    "false_positive_passengers_export = false_positive_passengers[['PassengerId','Survived','Pclass','Age','Sex','SibSp','Parch',\n",
    "                                                            'Fare','Cabin','Embarked']]\n",
    "false_positive_passengers_export.to_csv('../results/false_positive_rf_predictions.csv',encoding='utf-8', index=False)\n",
    "\n",
    "false_negatives = errors.loc[errors['RF_Predict'] == 0]['PassengerId']\n",
    "list_false_negative_ids = false_negatives.tolist()\n",
    "false_negative_passengers = df_train[df_train['PassengerId'].isin(list_false_negative_ids)]\n",
    "false_negative_passengers_export = false_negative_passengers[['PassengerId','Survived','Pclass','Age','Sex','SibSp','Parch',\n",
    "                                                            'Fare','Cabin','Embarked']]\n",
    "false_negative_passengers_export.to_csv('../results/false_negative_rf_predictions.csv',encoding='utf-8', index=False)\n",
    "\n",
    "\n",
    "correct_predictions = df.query('Survived == RF_Predict')\n",
    "correct_passenger_ids = correct_predictions['PassengerId']\n",
    "list_correct_predictions = correct_passenger_ids.tolist()\n",
    "correct_passengers = df_train[df_train['PassengerId'].isin(list_correct_predictions)]\n",
    "\n",
    "correct_passengers_export = correct_passengers[['PassengerId','Survived','Pclass','Age','Sex','SibSp','Parch',\n",
    "                                                            'Fare','Cabin','Embarked']]\n",
    "\n",
    "correct_passengers_export.to_csv('../results/correct_rf_predictions.csv',encoding='utf-8', index=False)\n"
   ]
  },
  {
   "cell_type": "code",
   "execution_count": 16,
   "metadata": {},
   "outputs": [
    {
     "data": {
      "text/html": [
       "<div>\n",
       "<style scoped>\n",
       "    .dataframe tbody tr th:only-of-type {\n",
       "        vertical-align: middle;\n",
       "    }\n",
       "\n",
       "    .dataframe tbody tr th {\n",
       "        vertical-align: top;\n",
       "    }\n",
       "\n",
       "    .dataframe thead th {\n",
       "        text-align: right;\n",
       "    }\n",
       "</style>\n",
       "<table border=\"1\" class=\"dataframe\">\n",
       "  <thead>\n",
       "    <tr style=\"text-align: right;\">\n",
       "      <th></th>\n",
       "      <th>PassengerId</th>\n",
       "      <th>Survived</th>\n",
       "      <th>Pclass</th>\n",
       "      <th>Name</th>\n",
       "      <th>Sex</th>\n",
       "      <th>Age</th>\n",
       "      <th>SibSp</th>\n",
       "      <th>Parch</th>\n",
       "      <th>Ticket</th>\n",
       "      <th>Fare</th>\n",
       "      <th>Cabin</th>\n",
       "      <th>Embarked</th>\n",
       "    </tr>\n",
       "  </thead>\n",
       "  <tbody>\n",
       "    <tr>\n",
       "      <th>267</th>\n",
       "      <td>268</td>\n",
       "      <td>1</td>\n",
       "      <td>3</td>\n",
       "      <td>Persson, Mr. Ernst Ulrik</td>\n",
       "      <td>male</td>\n",
       "      <td>25.0</td>\n",
       "      <td>1</td>\n",
       "      <td>0</td>\n",
       "      <td>347083</td>\n",
       "      <td>7.7750</td>\n",
       "      <td>NaN</td>\n",
       "      <td>S</td>\n",
       "    </tr>\n",
       "    <tr>\n",
       "      <th>704</th>\n",
       "      <td>705</td>\n",
       "      <td>0</td>\n",
       "      <td>3</td>\n",
       "      <td>Hansen, Mr. Henrik Juul</td>\n",
       "      <td>male</td>\n",
       "      <td>26.0</td>\n",
       "      <td>1</td>\n",
       "      <td>0</td>\n",
       "      <td>350025</td>\n",
       "      <td>7.8542</td>\n",
       "      <td>NaN</td>\n",
       "      <td>S</td>\n",
       "    </tr>\n",
       "  </tbody>\n",
       "</table>\n",
       "</div>"
      ],
      "text/plain": [
       "     PassengerId  Survived  Pclass                      Name   Sex   Age  \\\n",
       "267          268         1       3  Persson, Mr. Ernst Ulrik  male  25.0   \n",
       "704          705         0       3   Hansen, Mr. Henrik Juul  male  26.0   \n",
       "\n",
       "     SibSp  Parch  Ticket    Fare Cabin Embarked  \n",
       "267      1      0  347083  7.7750   NaN        S  \n",
       "704      1      0  350025  7.8542   NaN        S  "
      ]
     },
     "execution_count": 16,
     "metadata": {},
     "output_type": "execute_result"
    }
   ],
   "source": [
    "df_train[df_train['PassengerId'].isin([268,705])]"
   ]
  },
  {
   "cell_type": "code",
   "execution_count": null,
   "metadata": {},
   "outputs": [],
   "source": [
    "sns.jointplot(x='total_bill',y='tip',data=tips,kind='scatter')"
   ]
  },
  {
   "cell_type": "code",
   "execution_count": 47,
   "metadata": {},
   "outputs": [],
   "source": [
    "def join_feature_name_with_importance_value(features, importances):\n",
    "    '''\n",
    "    Join via a list of tuples, feature names with their importance values\n",
    "    :param features: data frame whose features are represented by columns used by classifier\n",
    "    :param importances: feature importance scores assigned by classifier\n",
    "    :return: sorted list (highest importances first) of feature,importance tuples\n",
    "    '''\n",
    "    if features.columns.shape[0] != importances.shape[0]:\n",
    "        return []\n",
    "\n",
    "    feature_importances = []\n",
    "    for item in range(features.columns.shape[0]):\n",
    "        feature_importances.append((features.columns[item], importances[item]))\n",
    "    feature_importances_sorted = sorted(feature_importances, reverse=True, key=lambda kv: kv[1])\n",
    "\n",
    "    return feature_importances_sorted"
   ]
  },
  {
   "cell_type": "code",
   "execution_count": 57,
   "metadata": {},
   "outputs": [
    {
     "name": "stdout",
     "output_type": "stream",
     "text": [
      "Feature missing data: Age\n",
      "Feature missing data: Cabin\n",
      "Feature missing data: Embarked\n",
      "Predict Features Index(['Pclass', 'Age', 'Fare', 'Sex_male'], dtype='object')\n",
      "Training Model Score=  0.9775449101796407\n",
      "[[124  15]\n",
      " [ 28  56]]\n",
      "Training accuracy = 0.8071748878923767\n",
      "Feature ranking:\n",
      "Feature:  Sex_male 0.31532461882593876\n",
      "Feature:  Fare 0.3066756267955963\n",
      "Feature:  Age 0.2804070575279088\n",
      "Feature:  Pclass 0.09759269685055622\n"
     ]
    },
    {
     "data": {
      "image/png": "[encoded data removed]",
      "text/plain": [
       "<Figure size 432x288 with 1 Axes>"
      ]
     },
     "metadata": {},
     "output_type": "display_data"
    }
   ],
   "source": [
    "import matplotlib.pyplot as plt\n",
    "\n",
    "df_train, df_test = read_data_files()\n",
    "rf_classifier, rf_training_features, rf_results = process_training_data(df_train)\n",
    "training_features_list = list(rf_training_features)\n",
    "importances = rf_classifier.feature_importances_\n",
    "feature_importances = join_feature_name_with_importance_value(rf_training_features, importances)\n",
    "\n",
    "\n",
    "# Print the feature ranking\n",
    "print(\"Feature ranking:\")\n",
    "\n",
    "for f in feature_importances:\n",
    "    print(\"Feature: \",f[0], f[1])\n",
    "   \n",
    " \n",
    "# Plot the feature importances of the forest\n",
    "plt.figure()\n",
    "plt.title(\"Feature Importances\")\n",
    "plt.bar(range(len(feature_importances)), [x[1] for x in feature_importances],\n",
    "       color=\"b\",  align=\"center\")\n",
    "plt.xticks(range(len(feature_importances)),[x[0] for x in feature_importances])\n",
    "plt.xlim([-1, len(feature_importances)])\n",
    "plt.show()"
   ]
  },
  {
   "cell_type": "code",
   "execution_count": null,
   "metadata": {},
   "outputs": [],
   "source": []
  }
 ],
 "metadata": {
  "kernelspec": {
   "display_name": "Python 3",
   "language": "python",
   "name": "python3"
  },
  "language_info": {
   "codemirror_mode": {
    "name": "ipython",
    "version": 3
   },
   "file_extension": ".py",
   "mimetype": "text/x-python",
   "name": "python",
   "nbconvert_exporter": "python",
   "pygments_lexer": "ipython3",
   "version": "3.6.5"
  }
 },
 "nbformat": 4,
 "nbformat_minor": 2
}
