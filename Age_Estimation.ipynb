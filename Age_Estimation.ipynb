{
 "cells": [
  {
   "cell_type": "code",
   "execution_count": 42,
   "metadata": {},
   "outputs": [],
   "source": [
    "import numpy as np\n",
    "import pandas as pd\n",
    "import seaborn as sns\n",
    "import matplotlib.pyplot as plt\n",
    "from sklearn.model_selection import train_test_split\n",
    "from sklearn.metrics import confusion_matrix\n",
    "from sklearn.metrics import f1_score\n",
    "from sklearn.preprocessing import StandardScaler\n",
    "from sklearn.linear_model import LinearRegression\n",
    "from sklearn import metrics\n",
    "%matplotlib inline"
   ]
  },
  {
   "cell_type": "code",
   "execution_count": 10,
   "metadata": {},
   "outputs": [],
   "source": [
    "df = pd.read_csv('data/train.csv')"
   ]
  },
  {
   "cell_type": "markdown",
   "metadata": {},
   "source": [
    "#### Feature Selection - First Cut\n",
    "##### Drop:  PassengerId, Survived , Name, Cabin, Embarked, Ticket\n",
    "##### Keep: Pclass, Sex, Age, SibSp, Parch, Fare"
   ]
  },
  {
   "cell_type": "code",
   "execution_count": 128,
   "metadata": {},
   "outputs": [
    {
     "name": "stdout",
     "output_type": "stream",
     "text": [
      "<class 'pandas.core.frame.DataFrame'>\n",
      "Int64Index: 714 entries, 0 to 890\n",
      "Data columns (total 6 columns):\n",
      "Pclass    714 non-null int64\n",
      "Sex       714 non-null object\n",
      "Age       714 non-null float64\n",
      "SibSp     714 non-null int64\n",
      "Parch     714 non-null int64\n",
      "Fare      714 non-null float64\n",
      "dtypes: float64(2), int64(3), object(1)\n",
      "memory usage: 39.0+ KB\n"
     ]
    }
   ],
   "source": [
    "features = df.drop(['PassengerId','Survived','Name','Ticket','Cabin','Embarked'], axis=1)\n",
    "features_with_ages = features.loc[features['Age'].notnull(),['Pclass','Sex','Age','SibSp','Parch','Fare']]\n",
    "features_with_ages.info()"
   ]
  },
  {
   "cell_type": "code",
   "execution_count": 18,
   "metadata": {},
   "outputs": [
    {
     "data": {
      "text/html": [
       "<div>\n",
       "<style scoped>\n",
       "    .dataframe tbody tr th:only-of-type {\n",
       "        vertical-align: middle;\n",
       "    }\n",
       "\n",
       "    .dataframe tbody tr th {\n",
       "        vertical-align: top;\n",
       "    }\n",
       "\n",
       "    .dataframe thead th {\n",
       "        text-align: right;\n",
       "    }\n",
       "</style>\n",
       "<table border=\"1\" class=\"dataframe\">\n",
       "  <thead>\n",
       "    <tr style=\"text-align: right;\">\n",
       "      <th></th>\n",
       "      <th>Pclass</th>\n",
       "      <th>Age</th>\n",
       "      <th>SibSp</th>\n",
       "      <th>Parch</th>\n",
       "      <th>Fare</th>\n",
       "    </tr>\n",
       "  </thead>\n",
       "  <tbody>\n",
       "    <tr>\n",
       "      <th>count</th>\n",
       "      <td>714.000000</td>\n",
       "      <td>714.000000</td>\n",
       "      <td>714.000000</td>\n",
       "      <td>714.000000</td>\n",
       "      <td>714.000000</td>\n",
       "    </tr>\n",
       "    <tr>\n",
       "      <th>mean</th>\n",
       "      <td>2.236695</td>\n",
       "      <td>29.699118</td>\n",
       "      <td>0.512605</td>\n",
       "      <td>0.431373</td>\n",
       "      <td>34.694514</td>\n",
       "    </tr>\n",
       "    <tr>\n",
       "      <th>std</th>\n",
       "      <td>0.838250</td>\n",
       "      <td>14.526497</td>\n",
       "      <td>0.929783</td>\n",
       "      <td>0.853289</td>\n",
       "      <td>52.918930</td>\n",
       "    </tr>\n",
       "    <tr>\n",
       "      <th>min</th>\n",
       "      <td>1.000000</td>\n",
       "      <td>0.420000</td>\n",
       "      <td>0.000000</td>\n",
       "      <td>0.000000</td>\n",
       "      <td>0.000000</td>\n",
       "    </tr>\n",
       "    <tr>\n",
       "      <th>25%</th>\n",
       "      <td>1.000000</td>\n",
       "      <td>20.125000</td>\n",
       "      <td>0.000000</td>\n",
       "      <td>0.000000</td>\n",
       "      <td>8.050000</td>\n",
       "    </tr>\n",
       "    <tr>\n",
       "      <th>50%</th>\n",
       "      <td>2.000000</td>\n",
       "      <td>28.000000</td>\n",
       "      <td>0.000000</td>\n",
       "      <td>0.000000</td>\n",
       "      <td>15.741700</td>\n",
       "    </tr>\n",
       "    <tr>\n",
       "      <th>75%</th>\n",
       "      <td>3.000000</td>\n",
       "      <td>38.000000</td>\n",
       "      <td>1.000000</td>\n",
       "      <td>1.000000</td>\n",
       "      <td>33.375000</td>\n",
       "    </tr>\n",
       "    <tr>\n",
       "      <th>max</th>\n",
       "      <td>3.000000</td>\n",
       "      <td>80.000000</td>\n",
       "      <td>5.000000</td>\n",
       "      <td>6.000000</td>\n",
       "      <td>512.329200</td>\n",
       "    </tr>\n",
       "  </tbody>\n",
       "</table>\n",
       "</div>"
      ],
      "text/plain": [
       "           Pclass         Age       SibSp       Parch        Fare\n",
       "count  714.000000  714.000000  714.000000  714.000000  714.000000\n",
       "mean     2.236695   29.699118    0.512605    0.431373   34.694514\n",
       "std      0.838250   14.526497    0.929783    0.853289   52.918930\n",
       "min      1.000000    0.420000    0.000000    0.000000    0.000000\n",
       "25%      1.000000   20.125000    0.000000    0.000000    8.050000\n",
       "50%      2.000000   28.000000    0.000000    0.000000   15.741700\n",
       "75%      3.000000   38.000000    1.000000    1.000000   33.375000\n",
       "max      3.000000   80.000000    5.000000    6.000000  512.329200"
      ]
     },
     "execution_count": 18,
     "metadata": {},
     "output_type": "execute_result"
    }
   ],
   "source": [
    "features_with_ages.describe()"
   ]
  },
  {
   "cell_type": "code",
   "execution_count": 126,
   "metadata": {},
   "outputs": [
    {
     "name": "stdout",
     "output_type": "stream",
     "text": [
      "28.0\n"
     ]
    },
    {
     "data": {
      "image/png": "[encoded data removed]",
      "text/plain": [
       "<Figure size 432x288 with 1 Axes>"
      ]
     },
     "metadata": {},
     "output_type": "display_data"
    }
   ],
   "source": [
    "# plot age distributions for non-missing age data\n",
    "age = features_with_ages['Age']\n",
    "print(np.median(age))\n",
    "ax = sns.boxplot(age, orient=\"v\")\n",
    "\n"
   ]
  },
  {
   "cell_type": "code",
   "execution_count": 145,
   "metadata": {},
   "outputs": [
    {
     "name": "stdout",
     "output_type": "stream",
     "text": [
      "Meadian age of P1 class:  37.0\n",
      "Mean age of P1 class:  38.233440860215055\n",
      "Meadian age of P2 class:  29.0\n",
      "Mean age of P2 class:  29.87763005780347\n",
      "Meadian age of P3 class:  24.0\n",
      "Mean age of P3 class:  25.14061971830986\n",
      "P1 passengers= 186\n",
      "P2 passengers= 173\n",
      "P3 passengers= 355\n"
     ]
    }
   ],
   "source": [
    "# sns.boxplot(x=\"Pclass\", y=\"Age\", data =features_with_ages)\n",
    "p1_ages = features_with_ages[features_with_ages['Pclass']==1]['Age']\n",
    "p2_ages = features_with_ages[features_with_ages['Pclass']==2]['Age']\n",
    "p3_ages = features_with_ages[features_with_ages['Pclass']==3]['Age']\n",
    "print(\"Median age of P1 class: \",np.median(p1_ages))\n",
    "print(\"Mean age of P1 class: \",np.mean(p1_ages))\n",
    "print(\"Median age of P2 class: \",np.median(p2_ages))\n",
    "print(\"Mean age of P2 class: \",np.mean(p2_ages))\n",
    "print(\"Median age of P3 class: \",np.median(p3_ages))\n",
    "print(\"Mean age of P3 class: \",np.mean(p3_ages))\n",
    "\n",
    "print(\"P1 passengers=\", p1_ages.shape[0])\n",
    "print(\"P2 passengers=\", p2_ages.shape[0])\n",
    "print(\"P3 passengers=\", p3_ages.shape[0])"
   ]
  },
  {
   "cell_type": "code",
   "execution_count": 21,
   "metadata": {},
   "outputs": [
    {
     "data": {
      "text/html": [
       "<div>\n",
       "<style scoped>\n",
       "    .dataframe tbody tr th:only-of-type {\n",
       "        vertical-align: middle;\n",
       "    }\n",
       "\n",
       "    .dataframe tbody tr th {\n",
       "        vertical-align: top;\n",
       "    }\n",
       "\n",
       "    .dataframe thead th {\n",
       "        text-align: right;\n",
       "    }\n",
       "</style>\n",
       "<table border=\"1\" class=\"dataframe\">\n",
       "  <thead>\n",
       "    <tr style=\"text-align: right;\">\n",
       "      <th></th>\n",
       "      <th>Pclass</th>\n",
       "      <th>Sex</th>\n",
       "      <th>Age</th>\n",
       "      <th>SibSp</th>\n",
       "      <th>Parch</th>\n",
       "      <th>Fare</th>\n",
       "    </tr>\n",
       "  </thead>\n",
       "  <tbody>\n",
       "    <tr>\n",
       "      <th>0</th>\n",
       "      <td>3</td>\n",
       "      <td>male</td>\n",
       "      <td>22.0</td>\n",
       "      <td>1</td>\n",
       "      <td>0</td>\n",
       "      <td>7.2500</td>\n",
       "    </tr>\n",
       "    <tr>\n",
       "      <th>1</th>\n",
       "      <td>1</td>\n",
       "      <td>female</td>\n",
       "      <td>38.0</td>\n",
       "      <td>1</td>\n",
       "      <td>0</td>\n",
       "      <td>71.2833</td>\n",
       "    </tr>\n",
       "    <tr>\n",
       "      <th>2</th>\n",
       "      <td>3</td>\n",
       "      <td>female</td>\n",
       "      <td>26.0</td>\n",
       "      <td>0</td>\n",
       "      <td>0</td>\n",
       "      <td>7.9250</td>\n",
       "    </tr>\n",
       "    <tr>\n",
       "      <th>3</th>\n",
       "      <td>1</td>\n",
       "      <td>female</td>\n",
       "      <td>35.0</td>\n",
       "      <td>1</td>\n",
       "      <td>0</td>\n",
       "      <td>53.1000</td>\n",
       "    </tr>\n",
       "    <tr>\n",
       "      <th>4</th>\n",
       "      <td>3</td>\n",
       "      <td>male</td>\n",
       "      <td>35.0</td>\n",
       "      <td>0</td>\n",
       "      <td>0</td>\n",
       "      <td>8.0500</td>\n",
       "    </tr>\n",
       "    <tr>\n",
       "      <th>6</th>\n",
       "      <td>1</td>\n",
       "      <td>male</td>\n",
       "      <td>54.0</td>\n",
       "      <td>0</td>\n",
       "      <td>0</td>\n",
       "      <td>51.8625</td>\n",
       "    </tr>\n",
       "    <tr>\n",
       "      <th>7</th>\n",
       "      <td>3</td>\n",
       "      <td>male</td>\n",
       "      <td>2.0</td>\n",
       "      <td>3</td>\n",
       "      <td>1</td>\n",
       "      <td>21.0750</td>\n",
       "    </tr>\n",
       "    <tr>\n",
       "      <th>8</th>\n",
       "      <td>3</td>\n",
       "      <td>female</td>\n",
       "      <td>27.0</td>\n",
       "      <td>0</td>\n",
       "      <td>2</td>\n",
       "      <td>11.1333</td>\n",
       "    </tr>\n",
       "    <tr>\n",
       "      <th>9</th>\n",
       "      <td>2</td>\n",
       "      <td>female</td>\n",
       "      <td>14.0</td>\n",
       "      <td>1</td>\n",
       "      <td>0</td>\n",
       "      <td>30.0708</td>\n",
       "    </tr>\n",
       "    <tr>\n",
       "      <th>10</th>\n",
       "      <td>3</td>\n",
       "      <td>female</td>\n",
       "      <td>4.0</td>\n",
       "      <td>1</td>\n",
       "      <td>1</td>\n",
       "      <td>16.7000</td>\n",
       "    </tr>\n",
       "  </tbody>\n",
       "</table>\n",
       "</div>"
      ],
      "text/plain": [
       "    Pclass     Sex   Age  SibSp  Parch     Fare\n",
       "0        3    male  22.0      1      0   7.2500\n",
       "1        1  female  38.0      1      0  71.2833\n",
       "2        3  female  26.0      0      0   7.9250\n",
       "3        1  female  35.0      1      0  53.1000\n",
       "4        3    male  35.0      0      0   8.0500\n",
       "6        1    male  54.0      0      0  51.8625\n",
       "7        3    male   2.0      3      1  21.0750\n",
       "8        3  female  27.0      0      2  11.1333\n",
       "9        2  female  14.0      1      0  30.0708\n",
       "10       3  female   4.0      1      1  16.7000"
      ]
     },
     "execution_count": 21,
     "metadata": {},
     "output_type": "execute_result"
    }
   ],
   "source": [
    "features_with_ages.head(10)"
   ]
  },
  {
   "cell_type": "code",
   "execution_count": 23,
   "metadata": {},
   "outputs": [],
   "source": [
    "numeric_features = pd.get_dummies(features_with_ages)"
   ]
  },
  {
   "cell_type": "code",
   "execution_count": 121,
   "metadata": {},
   "outputs": [
    {
     "data": {
      "text/plain": [
       "<seaborn.axisgrid.PairGrid at 0x216fc066198>"
      ]
     },
     "execution_count": 121,
     "metadata": {},
     "output_type": "execute_result"
    },
    {
     "data": {
      "image/png": "[encoded data removed]",
      "text/plain": [
       "<Figure size 1260x1260 with 56 Axes>"
      ]
     },
     "metadata": {},
     "output_type": "display_data"
    }
   ],
   "source": [
    "sns.pairplot(numeric_features)"
   ]
  },
  {
   "cell_type": "code",
   "execution_count": 27,
   "metadata": {},
   "outputs": [],
   "source": [
    "scaler = StandardScaler()"
   ]
  },
  {
   "cell_type": "code",
   "execution_count": 67,
   "metadata": {},
   "outputs": [
    {
     "data": {
      "text/plain": [
       "[Int64Index([  0,   1,   2,   3,   4,   6,   7,   8,   9,  10,\n",
       "             ...\n",
       "             880, 881, 882, 883, 884, 885, 886, 887, 889, 890],\n",
       "            dtype='int64', length=714)]"
      ]
     },
     "execution_count": 67,
     "metadata": {},
     "output_type": "execute_result"
    }
   ],
   "source": [
    "y = numeric_features['Age']\n",
    "X = numeric_features.drop(['Age'],axis=1)\n",
    "X_scale = scaler.fit_transform(X)"
   ]
  },
  {
   "cell_type": "code",
   "execution_count": 64,
   "metadata": {},
   "outputs": [
    {
     "data": {
      "text/plain": [
       "853    16.00\n",
       "540    36.00\n",
       "259    50.00\n",
       "690    31.00\n",
       "469     0.75\n",
       "Name: Age, dtype: float64"
      ]
     },
     "execution_count": 64,
     "metadata": {},
     "output_type": "execute_result"
    }
   ],
   "source": [
    "X_train, X_test, y_train, y_test = train_test_split(X_scale, y, test_size=0.3, random_state=101)\n",
    "y_test.describe()\n",
    "y_test.head()"
   ]
  },
  {
   "cell_type": "code",
   "execution_count": 39,
   "metadata": {},
   "outputs": [
    {
     "name": "stdout",
     "output_type": "stream",
     "text": [
      "29.772846811931153\n"
     ]
    }
   ],
   "source": [
    "lm = LinearRegression()\n",
    "lm.fit(X_train, y_train)\n",
    "print(lm.intercept_)"
   ]
  },
  {
   "cell_type": "code",
   "execution_count": 40,
   "metadata": {},
   "outputs": [
    {
     "data": {
      "text/html": [
       "<div>\n",
       "<style scoped>\n",
       "    .dataframe tbody tr th:only-of-type {\n",
       "        vertical-align: middle;\n",
       "    }\n",
       "\n",
       "    .dataframe tbody tr th {\n",
       "        vertical-align: top;\n",
       "    }\n",
       "\n",
       "    .dataframe thead th {\n",
       "        text-align: right;\n",
       "    }\n",
       "</style>\n",
       "<table border=\"1\" class=\"dataframe\">\n",
       "  <thead>\n",
       "    <tr style=\"text-align: right;\">\n",
       "      <th></th>\n",
       "      <th>Coefficient</th>\n",
       "    </tr>\n",
       "  </thead>\n",
       "  <tbody>\n",
       "    <tr>\n",
       "      <th>Pclass</th>\n",
       "      <td>-5.935476</td>\n",
       "    </tr>\n",
       "    <tr>\n",
       "      <th>SibSp</th>\n",
       "      <td>-3.212265</td>\n",
       "    </tr>\n",
       "    <tr>\n",
       "      <th>Parch</th>\n",
       "      <td>-0.556454</td>\n",
       "    </tr>\n",
       "    <tr>\n",
       "      <th>Fare</th>\n",
       "      <td>-1.571093</td>\n",
       "    </tr>\n",
       "    <tr>\n",
       "      <th>Sex_female</th>\n",
       "      <td>-0.503548</td>\n",
       "    </tr>\n",
       "    <tr>\n",
       "      <th>Sex_male</th>\n",
       "      <td>0.503548</td>\n",
       "    </tr>\n",
       "  </tbody>\n",
       "</table>\n",
       "</div>"
      ],
      "text/plain": [
       "            Coefficient\n",
       "Pclass        -5.935476\n",
       "SibSp         -3.212265\n",
       "Parch         -0.556454\n",
       "Fare          -1.571093\n",
       "Sex_female    -0.503548\n",
       "Sex_male       0.503548"
      ]
     },
     "execution_count": 40,
     "metadata": {},
     "output_type": "execute_result"
    }
   ],
   "source": [
    "coeff_df = pd.DataFrame(lm.coef_,X.columns,columns=['Coefficient'])\n",
    "coeff_df"
   ]
  },
  {
   "cell_type": "code",
   "execution_count": 94,
   "metadata": {},
   "outputs": [
    {
     "data": {
      "text/plain": [
       "array([-1.47636364, -0.55170307,  0.66686178,  0.0889811 ,  1.31743394,\n",
       "       -1.31743394])"
      ]
     },
     "execution_count": 94,
     "metadata": {},
     "output_type": "execute_result"
    }
   ],
   "source": [
    "X_test_row =X_test[0]\n",
    "X_test_row"
   ]
  },
  {
   "cell_type": "code",
   "execution_count": 87,
   "metadata": {},
   "outputs": [
    {
     "data": {
      "text/plain": [
       "(6, 1)"
      ]
     },
     "execution_count": 87,
     "metadata": {},
     "output_type": "execute_result"
    }
   ],
   "source": [
    "coeff_df.shape"
   ]
  },
  {
   "cell_type": "code",
   "execution_count": 115,
   "metadata": {},
   "outputs": [
    {
     "data": {
      "text/plain": [
       "numpy.ndarray"
      ]
     },
     "execution_count": 115,
     "metadata": {},
     "output_type": "execute_result"
    }
   ],
   "source": [
    "X_test_row.shape\n",
    "type(X_test_row)"
   ]
  },
  {
   "cell_type": "code",
   "execution_count": 118,
   "metadata": {},
   "outputs": [
    {
     "name": "stdout",
     "output_type": "stream",
     "text": [
      "8.697478574657758\n"
     ]
    }
   ],
   "source": [
    "result = coeff_df.multiply(X_test_row, axis=0)\n",
    "print (result['Coefficient'].sum())"
   ]
  },
  {
   "cell_type": "code",
   "execution_count": 120,
   "metadata": {},
   "outputs": [
    {
     "name": "stdout",
     "output_type": "stream",
     "text": [
      "38.47032538658891\n"
     ]
    },
    {
     "data": {
      "text/plain": [
       "array([38.47032539, 36.87891954, 31.78267362, 37.23396937, 17.98265672,\n",
       "       27.97858761, 27.99839196, 41.60369751, 17.98265672, 25.8590182 ,\n",
       "       31.51631137, 23.86996261, 27.97400641, 34.52008819, 28.97798415,\n",
       "       22.38317456, 21.0631697 , 24.27871406, 21.0631697 , 35.76557745,\n",
       "       27.97772009, 27.98291926, 41.35512705, 35.08158583, 27.18995616,\n",
       "       32.82148281, 38.60212738, 25.86397077, 24.27756975, 22.21198124,\n",
       "       37.17280644, 21.55914127, 30.75827826, 27.97400641, 33.36214866,\n",
       "       31.06920476, 22.42922428, 27.97858761, 27.97858761, 27.997774  ,\n",
       "       23.38582258, 27.97772009, 12.14973109, 37.2360728 , 34.51092578,\n",
       "       27.93917496, 24.16242412, 30.09724194, 41.59589876, 28.32539843,\n",
       "       22.37277624, 33.53381189, 13.61605523, 27.97772009, 31.1300879 ,\n",
       "       27.95580934, 34.85192373, 27.97858761, 24.32646564, 10.05516816,\n",
       "       34.91270342, 31.12266053, 34.91270342, 36.26386812, 31.02854432,\n",
       "       35.79099096, 27.97982353, 16.88096143, 25.88860291, 27.2099625 ,\n",
       "       27.98217652, 37.34983641, 29.12653164, 27.97400641, 12.55238567,\n",
       "       41.47854625, 31.96587897, 32.82148281, 41.56111488, 22.19377652,\n",
       "       24.27756975, 27.98291926, 27.98217652, 34.60055042, 27.97400641,\n",
       "       32.82148281, 41.60369751, 28.00099154, 28.01262875, 27.31089758,\n",
       "       10.05851048, 25.69239842, 28.0037159 , 25.09873555, 31.06920476,\n",
       "       12.86619223, 17.98265672, 20.56379952, 41.37394505, 32.82148281,\n",
       "       25.88649948, 27.98155856, 34.16233534, 27.97772009, 32.82148281,\n",
       "       27.97858761, 34.52647996, 30.63201289, 27.08225923, 21.68132158,\n",
       "       27.95580934, 27.16364283, 36.28016972, 28.0215416 , 25.89169864,\n",
       "       34.91270342, 31.06920476, 23.67549018, 28.50346999, 14.47140828,\n",
       "       27.95580934, 27.997774  , 34.91270342, 35.73417155, 34.98697717,\n",
       "       32.89575656, 23.63562894, 32.287161  , 25.90717135, 41.19259233,\n",
       "       36.25355595, 16.56262889, 34.52647996, 22.89409104, 34.9320146 ,\n",
       "       27.93092763, 34.91270342, 27.98291926, 21.3166548 , 25.8992508 ,\n",
       "       27.97400641, 27.93092763, 38.35508873, 31.03949526, 29.33870795,\n",
       "       41.59589876, 27.97858761, 15.70727584, 34.98697717, 32.83188114,\n",
       "       20.76384651, 27.97400641, 33.66592775, 23.50168962, 37.34983641,\n",
       "       28.00148769, 34.91270342, 31.87180212, 31.21775225, 31.12266053,\n",
       "       42.38468592, 27.98291926, 35.65969401, 27.95605593, 39.43592741,\n",
       "       20.5811331 , 27.97982353, 32.89575656, 27.93092763, 40.03169372,\n",
       "       27.97772009, 28.85704273, 33.11527882, 27.96472219, 20.80287043,\n",
       "       36.64782475, 27.9858902 , 27.97858761, 28.23626993, 37.91670551,\n",
       "       28.97798415, 27.98291926, 34.62224552, 22.23524503, 34.89784867,\n",
       "       34.85328443, 23.49351951, 34.91270342, 33.11527882, 35.25861579,\n",
       "       25.89466959, 34.98697717, 34.98697717, 27.98155856, 25.75132127,\n",
       "       22.83944831, 26.4772087 , 37.28026568, 27.97772009, 22.1299011 ,\n",
       "       41.53796524, 27.98972867, 28.0037159 , 27.97400641, 41.47854625,\n",
       "       34.98053788, 32.18767698, 34.98697717, 41.56024737, 27.97772009,\n",
       "       27.92065409, 25.88649948, 28.00148769, 26.57312037, 41.493401  ])"
      ]
     },
     "execution_count": 120,
     "metadata": {},
     "output_type": "execute_result"
    }
   ],
   "source": [
    "predictions = lm.predict(X_test)\n",
    "print(predictions[0])\n",
    "\n",
    "predictions\n",
    "# plt.scatter(y_test,predictions)"
   ]
  },
  {
   "cell_type": "code",
   "execution_count": 43,
   "metadata": {},
   "outputs": [
    {
     "name": "stdout",
     "output_type": "stream",
     "text": [
      "MAE: 9.549000836808158\n",
      "MSE: 153.03808347314182\n",
      "RMSE: 12.370856214229548\n"
     ]
    }
   ],
   "source": [
    "print('MAE:', metrics.mean_absolute_error(y_test, predictions))\n",
    "print('MSE:', metrics.mean_squared_error(y_test, predictions))\n",
    "print('RMSE:', np.sqrt(metrics.mean_squared_error(y_test, predictions)))"
   ]
  },
  {
   "cell_type": "code",
   "execution_count": 70,
   "metadata": {},
   "outputs": [
    {
     "data": {
      "text/plain": [
       "0      22.0\n",
       "1      38.0\n",
       "2      26.0\n",
       "3      35.0\n",
       "4      35.0\n",
       "6      54.0\n",
       "7       2.0\n",
       "8      27.0\n",
       "9      14.0\n",
       "10      4.0\n",
       "11     58.0\n",
       "12     20.0\n",
       "13     39.0\n",
       "14     14.0\n",
       "15     55.0\n",
       "16      2.0\n",
       "18     31.0\n",
       "20     35.0\n",
       "21     34.0\n",
       "22     15.0\n",
       "23     28.0\n",
       "24      8.0\n",
       "25     38.0\n",
       "27     19.0\n",
       "30     40.0\n",
       "33     66.0\n",
       "34     28.0\n",
       "35     42.0\n",
       "37     21.0\n",
       "38     18.0\n",
       "       ... \n",
       "856    45.0\n",
       "857    51.0\n",
       "858    24.0\n",
       "860    41.0\n",
       "861    21.0\n",
       "862    48.0\n",
       "864    24.0\n",
       "865    42.0\n",
       "866    27.0\n",
       "867    31.0\n",
       "869     4.0\n",
       "870    26.0\n",
       "871    47.0\n",
       "872    33.0\n",
       "873    47.0\n",
       "874    28.0\n",
       "875    15.0\n",
       "876    20.0\n",
       "877    19.0\n",
       "879    56.0\n",
       "880    25.0\n",
       "881    33.0\n",
       "882    22.0\n",
       "883    28.0\n",
       "884    25.0\n",
       "885    39.0\n",
       "886    27.0\n",
       "887    19.0\n",
       "889    26.0\n",
       "890    32.0\n",
       "Name: Age, Length: 714, dtype: float64"
      ]
     },
     "execution_count": 70,
     "metadata": {},
     "output_type": "execute_result"
    }
   ],
   "source": [
    "y\n"
   ]
  },
  {
   "cell_type": "code",
   "execution_count": null,
   "metadata": {},
   "outputs": [],
   "source": []
  }
 ],
 "metadata": {
  "kernelspec": {
   "display_name": "Python 3",
   "language": "python",
   "name": "python3"
  },
  "language_info": {
   "codemirror_mode": {
    "name": "ipython",
    "version": 3
   },
   "file_extension": ".py",
   "mimetype": "text/x-python",
   "name": "python",
   "nbconvert_exporter": "python",
   "pygments_lexer": "ipython3",
   "version": "3.6.5"
  }
 },
 "nbformat": 4,
 "nbformat_minor": 2
}
